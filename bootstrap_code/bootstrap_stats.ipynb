{
 "cells": [
  {
   "cell_type": "code",
   "execution_count": 35,
   "metadata": {
    "collapsed": true
   },
   "outputs": [],
   "source": [
    "# Iman Wahle\n",
    "# September 2019\n",
    "# Calculate DSN/DRN statistics from saved bootstrap results"
   ]
  },
  {
   "cell_type": "code",
   "execution_count": null,
   "metadata": {
    "collapsed": true
   },
   "outputs": [],
   "source": [
    "import numpy as np\n",
    "import pandas as pd"
   ]
  },
  {
   "cell_type": "code",
   "execution_count": 51,
   "metadata": {
    "collapsed": true
   },
   "outputs": [],
   "source": [
    "result_name = \"tf_results_dsi4\"\n",
    "d = pd.read_csv(\"results/\" + result_name + \".csv\")"
   ]
  },
  {
   "cell_type": "code",
   "execution_count": 52,
   "metadata": {},
   "outputs": [
    {
     "data": {
      "text/html": [
       "<div>\n",
       "<style scoped>\n",
       "    .dataframe tbody tr th:only-of-type {\n",
       "        vertical-align: middle;\n",
       "    }\n",
       "\n",
       "    .dataframe tbody tr th {\n",
       "        vertical-align: top;\n",
       "    }\n",
       "\n",
       "    .dataframe thead th {\n",
       "        text-align: right;\n",
       "    }\n",
       "</style>\n",
       "<table border=\"1\" class=\"dataframe\">\n",
       "  <thead>\n",
       "    <tr style=\"text-align: right;\">\n",
       "      <th></th>\n",
       "      <th>Unnamed: 0</th>\n",
       "      <th>session_id</th>\n",
       "      <th>cell_id</th>\n",
       "      <th>n_cells</th>\n",
       "      <th>drn_accum</th>\n",
       "      <th>dsn_accum</th>\n",
       "      <th>is_drn</th>\n",
       "      <th>is_dsn</th>\n",
       "    </tr>\n",
       "  </thead>\n",
       "  <tbody>\n",
       "    <tr>\n",
       "      <th>0</th>\n",
       "      <td>0</td>\n",
       "      <td>556353209</td>\n",
       "      <td>557374817</td>\n",
       "      <td>21</td>\n",
       "      <td>550</td>\n",
       "      <td>951</td>\n",
       "      <td>False</td>\n",
       "      <td>True</td>\n",
       "    </tr>\n",
       "    <tr>\n",
       "      <th>1</th>\n",
       "      <td>1</td>\n",
       "      <td>556353209</td>\n",
       "      <td>557374888</td>\n",
       "      <td>21</td>\n",
       "      <td>13</td>\n",
       "      <td>921</td>\n",
       "      <td>False</td>\n",
       "      <td>False</td>\n",
       "    </tr>\n",
       "    <tr>\n",
       "      <th>2</th>\n",
       "      <td>2</td>\n",
       "      <td>556353209</td>\n",
       "      <td>557374807</td>\n",
       "      <td>21</td>\n",
       "      <td>206</td>\n",
       "      <td>227</td>\n",
       "      <td>False</td>\n",
       "      <td>False</td>\n",
       "    </tr>\n",
       "    <tr>\n",
       "      <th>3</th>\n",
       "      <td>3</td>\n",
       "      <td>556353209</td>\n",
       "      <td>557374802</td>\n",
       "      <td>21</td>\n",
       "      <td>413</td>\n",
       "      <td>527</td>\n",
       "      <td>False</td>\n",
       "      <td>False</td>\n",
       "    </tr>\n",
       "    <tr>\n",
       "      <th>4</th>\n",
       "      <td>4</td>\n",
       "      <td>556353209</td>\n",
       "      <td>557374843</td>\n",
       "      <td>21</td>\n",
       "      <td>566</td>\n",
       "      <td>771</td>\n",
       "      <td>False</td>\n",
       "      <td>False</td>\n",
       "    </tr>\n",
       "  </tbody>\n",
       "</table>\n",
       "</div>"
      ],
      "text/plain": [
       "   Unnamed: 0  session_id    cell_id  n_cells  drn_accum  dsn_accum  is_drn  \\\n",
       "0           0   556353209  557374817       21        550        951   False   \n",
       "1           1   556353209  557374888       21         13        921   False   \n",
       "2           2   556353209  557374807       21        206        227   False   \n",
       "3           3   556353209  557374802       21        413        527   False   \n",
       "4           4   556353209  557374843       21        566        771   False   \n",
       "\n",
       "   is_dsn  \n",
       "0    True  \n",
       "1   False  \n",
       "2   False  \n",
       "3   False  \n",
       "4   False  "
      ]
     },
     "execution_count": 52,
     "metadata": {},
     "output_type": "execute_result"
    }
   ],
   "source": [
    "d.head()"
   ]
  },
  {
   "cell_type": "code",
   "execution_count": 53,
   "metadata": {},
   "outputs": [
    {
     "name": "stdout",
     "output_type": "stream",
     "text": [
      "Number of DRNs: 557\n",
      "Number of DSNs: 10192\n",
      "n_drn/n_dsn: 0.0546507064364\n"
     ]
    }
   ],
   "source": [
    "print(\"Number of DRNs: \" + str(sum(d.is_drn)))\n",
    "print(\"Number of DSNs: \" + str(sum(d.is_dsn)))\n",
    "print(\"n_drn/n_dsn: \" + str(sum(d.is_drn) / float(sum(d.is_dsn))))"
   ]
  },
  {
   "cell_type": "code",
   "execution_count": null,
   "metadata": {
    "collapsed": true
   },
   "outputs": [],
   "source": [
    "# sftf, dsi>0.25:\n",
    "#     Number of DRNs: 444\n",
    "#     Number of DSNs: 2751\n",
    "#     n_drn/n_dsn: 0.161395856052\n",
    "# tf, dsi>0.25:\n",
    "#     Number of DRNs: 814\n",
    "#     Number of DSNs: 13631\n",
    "#     n_drn/n_dsn: 0.05971682195\n",
    "# sftf, dsi>0.3:\n",
    "#     Number of DRNs: 416\n",
    "#     Number of DSNs: 2535\n",
    "#     n_drn/n_dsn: 0.164102564103\n",
    "# tf, dsi>0.3:\n",
    "#     Number of DRNs: 708\n",
    "#     Number of DSNs: 12515\n",
    "#     n_drn/n_dsn: 0.0565721134638\n",
    "# sftf, dsi>0.4:\n",
    "#     Number of DRNs: 359\n",
    "#     Number of DSNs: 2148\n",
    "#     n_drn/n_dsn: 0.167132216015\n",
    "# tf, dsi>0.4:\n",
    "#     Number of DRNs: 557\n",
    "#     Number of DSNs: 10192\n",
    "#     n_drn/n_dsn: 0.0546507064364\n",
    "        "
   ]
  }
 ],
 "metadata": {
  "kernelspec": {
   "display_name": "Python 2",
   "language": "python",
   "name": "python2"
  },
  "language_info": {
   "codemirror_mode": {
    "name": "ipython",
    "version": 2
   },
   "file_extension": ".py",
   "mimetype": "text/x-python",
   "name": "python",
   "nbconvert_exporter": "python",
   "pygments_lexer": "ipython2",
   "version": "2.7.3"
  }
 },
 "nbformat": 4,
 "nbformat_minor": 2
}
