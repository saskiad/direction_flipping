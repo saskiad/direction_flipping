{
 "cells": [
  {
   "cell_type": "code",
   "execution_count": 9,
   "metadata": {
    "collapsed": true
   },
   "outputs": [],
   "source": [
    "# Iman Wahle\n",
    "# August 2019\n",
    "# Bootstrap process to identify DSNs and DSNs for cells \n",
    "# in SF- and TF- varied drifting-grating experiments"
   ]
  },
  {
   "cell_type": "code",
   "execution_count": null,
   "metadata": {
    "collapsed": true
   },
   "outputs": [],
   "source": [
    "import numpy as np\n",
    "import pandas as pd\n",
    "import os\n",
    "import sys\n",
    "import h5py\n",
    "import progressbar\n",
    "\n",
    "import matplotlib.pyplot as plt\n",
    "%matplotlib inline"
   ]
  },
  {
   "cell_type": "code",
   "execution_count": 10,
   "metadata": {
    "collapsed": true
   },
   "outputs": [],
   "source": [
    "bfp = \"/allen/programs/braintv/workgroups/nc-ophys/Iman/direction_flipping/\"\n",
    "sftffp = \"/allen/programs/braintv/workgroups/nc-ophys/VisualCoding/analysis/sftf\""
   ]
  },
  {
   "cell_type": "code",
   "execution_count": 36,
   "metadata": {
    "collapsed": true
   },
   "outputs": [],
   "source": [
    "# load experiment list\n",
    "targeted_expts = pd.read_csv(bfp + \"targeted_manifest.csv\")\n",
    "sftf = targeted_expts[targeted_expts.stimulus_name=='VisCodingTargetedTFxSF']\n",
    "sessions = sftf.ophys_session_id.unique()"
   ]
  },
  {
   "cell_type": "code",
   "execution_count": 37,
   "metadata": {},
   "outputs": [
    {
     "data": {
      "text/plain": [
       "78"
      ]
     },
     "execution_count": 37,
     "metadata": {},
     "output_type": "execute_result"
    }
   ],
   "source": [
    "len(sessions)"
   ]
  },
  {
   "cell_type": "code",
   "execution_count": 38,
   "metadata": {
    "collapsed": true
   },
   "outputs": [],
   "source": [
    "# load session info once\n",
    "csv = pd.read_csv(bfp + \"resources/dgsftf_events_all.csv\")"
   ]
  },
  {
   "cell_type": "code",
   "execution_count": 39,
   "metadata": {
    "collapsed": true
   },
   "outputs": [],
   "source": [
    "# given a cell_id, returns a (2,2,n_trials) array\n",
    "# that has cell responses at ((pref_dir, null_dir) x (pref_sftf, null_sftf) x 15 trials)\n",
    "\n",
    "def get_cell_trials(mean_sweep_events, stim_table, pref_dir, null_dir, pref_sf, null_sf, pref_tf, null_tf, c):\n",
    "    cell_trials = np.empty((2,2,12))\n",
    "    cell_trials[:] = np.NaN\n",
    "    cell_trials[0,0,:] = mean_sweep_events[(stim_table.Ori==pref_dir)&(stim_table.SF==pref_sf)&(stim_table.TF==pref_tf)][str(c)].values\n",
    "    cell_trials[1,0,:] = mean_sweep_events[(stim_table.Ori==null_dir)&(stim_table.SF==pref_sf)&(stim_table.TF==pref_tf)][str(c)].values\n",
    "    cell_trials[0,1,:] = mean_sweep_events[(stim_table.Ori==pref_dir)&(stim_table.SF==null_sf)&(stim_table.TF==null_tf)][str(c)].values\n",
    "    cell_trials[1,1,:] = mean_sweep_events[(stim_table.Ori==null_dir)&(stim_table.SF==null_sf)&(stim_table.TF==null_tf)][str(c)].values\n",
    "    return cell_trials"
   ]
  },
  {
   "cell_type": "code",
   "execution_count": 40,
   "metadata": {
    "collapsed": true
   },
   "outputs": [],
   "source": [
    "def get_dsi(tf, response):\n",
    "    pref_dir = 0\n",
    "    null_dir = 1\n",
    "    pref = response[pref_dir, tf]\n",
    "    null = response[null_dir, tf]\n",
    "    return ((pref - null) / float(pref + null))"
   ]
  },
  {
   "cell_type": "code",
   "execution_count": 41,
   "metadata": {
    "collapsed": true
   },
   "outputs": [],
   "source": [
    "def bootstrap(cell_trials, niter, dsi_thresh):\n",
    "\n",
    "#     # progress bar across iterations\n",
    "#     bar = progressbar.ProgressBar(maxval=niter, \\\n",
    "#     widgets=[progressbar.Bar('=', '[', ']'), ' ', progressbar.Percentage()])\n",
    "#     bar.start()\n",
    "    \n",
    "    # repeat sampling 1000 times\n",
    "    drn_accum = 0\n",
    "    dsn_accum = 0\n",
    "\n",
    "    for i in range(niter):\n",
    "        \n",
    "        # generate response events stats with new sampling\n",
    "        response_events_sample = np.empty((2, 2)) # (pref_dir=0, null_dir=1) x (pref_tf=0, null_tf=1)\n",
    "        response_events_sample[:] = np.nan\n",
    "\n",
    "        # calculate mean response across new sampling at each dir/tf combination\n",
    "        for d in range(2): # pref_dir, null_dir\n",
    "            for t in range(2): # pref_tf, null_tf\n",
    "\n",
    "                # sample n_trials di x tf trials from mean_sweep_events\n",
    "                n_trials = cell_trials.shape[2]\n",
    "                sample_trials_idx = np.random.choice(n_trials, n_trials, replace=True)\n",
    "                sample_mse = cell_trials[d,t,sample_trials_idx]\n",
    "\n",
    "                # calculate stats\n",
    "                response_events_sample[d,t] = np.mean(sample_mse)\n",
    "\n",
    "\n",
    "        # DSI statistics\n",
    "        DSI_pref = get_dsi(0, response_events_sample)\n",
    "        DSI_null = get_dsi(1, response_events_sample)\n",
    "        DSI_ratio = DSI_null / float(DSI_pref)\n",
    "        \n",
    "        # apply criteria\n",
    "        check_drn = (DSI_ratio<0) & (DSI_pref>dsi_thresh)\n",
    "        check_dsn = (DSI_pref>dsi_thresh)\n",
    "\n",
    "        drn_accum += check_drn\n",
    "        dsn_accum += check_dsn\n",
    "            \n",
    "#         bar.update(i)\n",
    "        \n",
    "#     bar.finish()\n",
    "\n",
    "    return drn_accum, dsn_accum"
   ]
  },
  {
   "cell_type": "code",
   "execution_count": 42,
   "metadata": {
    "scrolled": false
   },
   "outputs": [
    {
     "name": "stderr",
     "output_type": "stream",
     "text": [
      "[                                                                        ]   0%\r"
     ]
    },
    {
     "name": "stdout",
     "output_type": "stream",
     "text": [
      "693163510\n",
      "687293842\n"
     ]
    },
    {
     "name": "stderr",
     "output_type": "stream",
     "text": [
      "/Users/imanwahle/anaconda2/lib/python2.7/site-packages/ipykernel_launcher.py:6: RuntimeWarning: invalid value encountered in double_scalars\n",
      "  \n",
      "[                                                                        ]   1%\r"
     ]
    },
    {
     "name": "stdout",
     "output_type": "stream",
     "text": [
      "686708257\n"
     ]
    },
    {
     "name": "stderr",
     "output_type": "stream",
     "text": [
      "[=                                                                       ]   2%\r"
     ]
    },
    {
     "name": "stdout",
     "output_type": "stream",
     "text": [
      "691741646\n"
     ]
    },
    {
     "name": "stderr",
     "output_type": "stream",
     "text": [
      "[==                                                                      ]   3%\r"
     ]
    },
    {
     "name": "stdout",
     "output_type": "stream",
     "text": [
      "681698752\n"
     ]
    },
    {
     "name": "stderr",
     "output_type": "stream",
     "text": [
      "[===                                                                     ]   5%\r"
     ]
    },
    {
     "name": "stdout",
     "output_type": "stream",
     "text": [
      "692308988\n"
     ]
    },
    {
     "name": "stderr",
     "output_type": "stream",
     "text": [
      "[====                                                                    ]   6%\r"
     ]
    },
    {
     "name": "stdout",
     "output_type": "stream",
     "text": [
      "689705421\n"
     ]
    },
    {
     "name": "stderr",
     "output_type": "stream",
     "text": [
      "[=====                                                                   ]   7%\r"
     ]
    },
    {
     "name": "stdout",
     "output_type": "stream",
     "text": [
      "692799916\n"
     ]
    },
    {
     "name": "stderr",
     "output_type": "stream",
     "text": [
      "[======                                                                  ]   8%\r"
     ]
    },
    {
     "name": "stdout",
     "output_type": "stream",
     "text": [
      "690759629\n"
     ]
    },
    {
     "name": "stderr",
     "output_type": "stream",
     "text": [
      "[=======                                                                 ]  10%\r"
     ]
    },
    {
     "name": "stdout",
     "output_type": "stream",
     "text": [
      "696247907\n"
     ]
    },
    {
     "name": "stderr",
     "output_type": "stream",
     "text": [
      "[========                                                                ]  11%\r"
     ]
    },
    {
     "name": "stdout",
     "output_type": "stream",
     "text": [
      "693163207\n"
     ]
    },
    {
     "name": "stderr",
     "output_type": "stream",
     "text": [
      "[=========                                                               ]  12%\r"
     ]
    },
    {
     "name": "stdout",
     "output_type": "stream",
     "text": [
      "695169813\n"
     ]
    },
    {
     "name": "stderr",
     "output_type": "stream",
     "text": [
      "[==========                                                              ]  14%\r"
     ]
    },
    {
     "name": "stdout",
     "output_type": "stream",
     "text": [
      "694862252\n"
     ]
    },
    {
     "name": "stderr",
     "output_type": "stream",
     "text": [
      "[===========                                                             ]  15%\r"
     ]
    },
    {
     "name": "stdout",
     "output_type": "stream",
     "text": [
      "697392152\n"
     ]
    },
    {
     "name": "stderr",
     "output_type": "stream",
     "text": [
      "[============                                                            ]  16%\r"
     ]
    },
    {
     "name": "stdout",
     "output_type": "stream",
     "text": [
      "698783733\n"
     ]
    },
    {
     "name": "stderr",
     "output_type": "stream",
     "text": [
      "[============                                                            ]  17%\r"
     ]
    },
    {
     "name": "stdout",
     "output_type": "stream",
     "text": [
      "695633877\n"
     ]
    },
    {
     "name": "stderr",
     "output_type": "stream",
     "text": [
      "[=============                                                           ]  19%\r"
     ]
    },
    {
     "name": "stdout",
     "output_type": "stream",
     "text": [
      "696130311\n"
     ]
    },
    {
     "name": "stderr",
     "output_type": "stream",
     "text": [
      "[==============                                                          ]  20%\r"
     ]
    },
    {
     "name": "stdout",
     "output_type": "stream",
     "text": [
      "695746063\n"
     ]
    },
    {
     "name": "stderr",
     "output_type": "stream",
     "text": [
      "[===============                                                         ]  21%\r"
     ]
    },
    {
     "name": "stdout",
     "output_type": "stream",
     "text": [
      "697608599\n"
     ]
    },
    {
     "name": "stderr",
     "output_type": "stream",
     "text": [
      "[================                                                        ]  23%\r"
     ]
    },
    {
     "name": "stdout",
     "output_type": "stream",
     "text": [
      "700599622\n"
     ]
    },
    {
     "name": "stderr",
     "output_type": "stream",
     "text": [
      "[=================                                                       ]  24%\r"
     ]
    },
    {
     "name": "stdout",
     "output_type": "stream",
     "text": [
      "698999602\n"
     ]
    },
    {
     "name": "stderr",
     "output_type": "stream",
     "text": [
      "[==================                                                      ]  25%\r"
     ]
    },
    {
     "name": "stdout",
     "output_type": "stream",
     "text": [
      "718830277\n"
     ]
    },
    {
     "name": "stderr",
     "output_type": "stream",
     "text": [
      "[===================                                                     ]  26%\r"
     ]
    },
    {
     "name": "stdout",
     "output_type": "stream",
     "text": [
      "718204062\n"
     ]
    },
    {
     "name": "stderr",
     "output_type": "stream",
     "text": [
      "[====================                                                    ]  28%\r"
     ]
    },
    {
     "name": "stdout",
     "output_type": "stream",
     "text": [
      "718651940\n"
     ]
    },
    {
     "name": "stderr",
     "output_type": "stream",
     "text": [
      "[=====================                                                   ]  29%\r"
     ]
    },
    {
     "name": "stdout",
     "output_type": "stream",
     "text": [
      "719893937\n"
     ]
    },
    {
     "name": "stderr",
     "output_type": "stream",
     "text": [
      "[======================                                                  ]  30%\r"
     ]
    },
    {
     "name": "stdout",
     "output_type": "stream",
     "text": [
      "720757419\n"
     ]
    },
    {
     "name": "stderr",
     "output_type": "stream",
     "text": [
      "[=======================                                                 ]  32%\r"
     ]
    },
    {
     "name": "stdout",
     "output_type": "stream",
     "text": [
      "766321179\n"
     ]
    },
    {
     "name": "stderr",
     "output_type": "stream",
     "text": [
      "[========================                                                ]  33%\r"
     ]
    },
    {
     "name": "stdout",
     "output_type": "stream",
     "text": [
      "767441755\n"
     ]
    },
    {
     "name": "stderr",
     "output_type": "stream",
     "text": [
      "[========================                                                ]  34%\r"
     ]
    },
    {
     "name": "stdout",
     "output_type": "stream",
     "text": [
      "766830331\n"
     ]
    },
    {
     "name": "stderr",
     "output_type": "stream",
     "text": [
      "[=========================                                               ]  35%\r"
     ]
    },
    {
     "name": "stdout",
     "output_type": "stream",
     "text": [
      "791540398\n"
     ]
    },
    {
     "name": "stderr",
     "output_type": "stream",
     "text": [
      "[==========================                                              ]  37%\r"
     ]
    },
    {
     "name": "stdout",
     "output_type": "stream",
     "text": [
      "768253493\n"
     ]
    },
    {
     "name": "stderr",
     "output_type": "stream",
     "text": [
      "[===========================                                             ]  38%\r"
     ]
    },
    {
     "name": "stdout",
     "output_type": "stream",
     "text": [
      "768939823\n"
     ]
    },
    {
     "name": "stderr",
     "output_type": "stream",
     "text": [
      "[============================                                            ]  39%\r"
     ]
    },
    {
     "name": "stdout",
     "output_type": "stream",
     "text": [
      "771835340\n"
     ]
    },
    {
     "name": "stderr",
     "output_type": "stream",
     "text": [
      "[=============================                                           ]  41%\r"
     ]
    },
    {
     "name": "stdout",
     "output_type": "stream",
     "text": [
      "771658602\n"
     ]
    },
    {
     "name": "stderr",
     "output_type": "stream",
     "text": [
      "[==============================                                          ]  42%\r"
     ]
    },
    {
     "name": "stdout",
     "output_type": "stream",
     "text": [
      "770127462\n"
     ]
    },
    {
     "name": "stderr",
     "output_type": "stream",
     "text": [
      "[===============================                                         ]  43%\r"
     ]
    },
    {
     "name": "stdout",
     "output_type": "stream",
     "text": [
      "769667739\n"
     ]
    },
    {
     "name": "stderr",
     "output_type": "stream",
     "text": [
      "[================================                                        ]  44%\r"
     ]
    },
    {
     "name": "stdout",
     "output_type": "stream",
     "text": [
      "769667208\n"
     ]
    },
    {
     "name": "stderr",
     "output_type": "stream",
     "text": [
      "[=================================                                       ]  46%\r"
     ]
    },
    {
     "name": "stdout",
     "output_type": "stream",
     "text": [
      "770687839\n"
     ]
    },
    {
     "name": "stderr",
     "output_type": "stream",
     "text": [
      "[==================================                                      ]  47%\r"
     ]
    },
    {
     "name": "stdout",
     "output_type": "stream",
     "text": [
      "772172502\n"
     ]
    },
    {
     "name": "stderr",
     "output_type": "stream",
     "text": [
      "[===================================                                     ]  48%\r"
     ]
    },
    {
     "name": "stdout",
     "output_type": "stream",
     "text": [
      "775065195\n"
     ]
    },
    {
     "name": "stderr",
     "output_type": "stream",
     "text": [
      "[====================================                                    ]  50%\r"
     ]
    },
    {
     "name": "stdout",
     "output_type": "stream",
     "text": [
      "777331050\n"
     ]
    },
    {
     "name": "stderr",
     "output_type": "stream",
     "text": [
      "[====================================                                    ]  51%\r"
     ]
    },
    {
     "name": "stdout",
     "output_type": "stream",
     "text": [
      "777309974\n"
     ]
    },
    {
     "name": "stderr",
     "output_type": "stream",
     "text": [
      "[=====================================                                   ]  52%\r"
     ]
    },
    {
     "name": "stdout",
     "output_type": "stream",
     "text": [
      "778292916\n"
     ]
    },
    {
     "name": "stderr",
     "output_type": "stream",
     "text": [
      "[======================================                                  ]  53%\r"
     ]
    },
    {
     "name": "stdout",
     "output_type": "stream",
     "text": [
      "778299488\n"
     ]
    },
    {
     "name": "stderr",
     "output_type": "stream",
     "text": [
      "[=======================================                                 ]  55%\r"
     ]
    },
    {
     "name": "stdout",
     "output_type": "stream",
     "text": [
      "796527576\n"
     ]
    },
    {
     "name": "stderr",
     "output_type": "stream",
     "text": [
      "[========================================                                ]  56%\r"
     ]
    },
    {
     "name": "stdout",
     "output_type": "stream",
     "text": [
      "778165960\n"
     ]
    },
    {
     "name": "stderr",
     "output_type": "stream",
     "text": [
      "[=========================================                               ]  57%\r"
     ]
    },
    {
     "name": "stdout",
     "output_type": "stream",
     "text": [
      "797356052\n"
     ]
    },
    {
     "name": "stderr",
     "output_type": "stream",
     "text": [
      "[==========================================                              ]  58%\r"
     ]
    },
    {
     "name": "stdout",
     "output_type": "stream",
     "text": [
      "782420243\n"
     ]
    },
    {
     "name": "stderr",
     "output_type": "stream",
     "text": [
      "[===========================================                             ]  60%\r"
     ]
    },
    {
     "name": "stdout",
     "output_type": "stream",
     "text": [
      "779940237\n"
     ]
    },
    {
     "name": "stderr",
     "output_type": "stream",
     "text": [
      "[============================================                            ]  61%\r"
     ]
    },
    {
     "name": "stdout",
     "output_type": "stream",
     "text": [
      "799645540\n"
     ]
    },
    {
     "name": "stderr",
     "output_type": "stream",
     "text": [
      "[=============================================                           ]  62%\r"
     ]
    },
    {
     "name": "stdout",
     "output_type": "stream",
     "text": [
      "786264766\n"
     ]
    },
    {
     "name": "stderr",
     "output_type": "stream",
     "text": [
      "[==============================================                          ]  64%\r"
     ]
    },
    {
     "name": "stdout",
     "output_type": "stream",
     "text": [
      "787347373\n"
     ]
    },
    {
     "name": "stderr",
     "output_type": "stream",
     "text": [
      "[===============================================                         ]  65%\r"
     ]
    },
    {
     "name": "stdout",
     "output_type": "stream",
     "text": [
      "788822860\n"
     ]
    },
    {
     "name": "stderr",
     "output_type": "stream",
     "text": [
      "[================================================                        ]  66%\r"
     ]
    },
    {
     "name": "stdout",
     "output_type": "stream",
     "text": [
      "797559679\n"
     ]
    },
    {
     "name": "stderr",
     "output_type": "stream",
     "text": [
      "[================================================                        ]  67%\r"
     ]
    },
    {
     "name": "stdout",
     "output_type": "stream",
     "text": [
      "799774167\n"
     ]
    },
    {
     "name": "stderr",
     "output_type": "stream",
     "text": [
      "[=================================================                       ]  69%\r"
     ]
    },
    {
     "name": "stdout",
     "output_type": "stream",
     "text": [
      "797612122\n"
     ]
    },
    {
     "name": "stderr",
     "output_type": "stream",
     "text": [
      "[==================================================                      ]  70%\r"
     ]
    },
    {
     "name": "stdout",
     "output_type": "stream",
     "text": [
      "793855640\n"
     ]
    },
    {
     "name": "stderr",
     "output_type": "stream",
     "text": [
      "[===================================================                     ]  71%\r"
     ]
    },
    {
     "name": "stdout",
     "output_type": "stream",
     "text": [
      "792316062\n"
     ]
    },
    {
     "name": "stderr",
     "output_type": "stream",
     "text": [
      "[====================================================                    ]  73%\r"
     ]
    },
    {
     "name": "stdout",
     "output_type": "stream",
     "text": [
      "797729073\n"
     ]
    },
    {
     "name": "stderr",
     "output_type": "stream",
     "text": [
      "[=====================================================                   ]  74%\r"
     ]
    },
    {
     "name": "stdout",
     "output_type": "stream",
     "text": [
      "799787572\n"
     ]
    },
    {
     "name": "stderr",
     "output_type": "stream",
     "text": [
      "[======================================================                  ]  75%\r"
     ]
    },
    {
     "name": "stdout",
     "output_type": "stream",
     "text": [
      "798725363\n"
     ]
    },
    {
     "name": "stderr",
     "output_type": "stream",
     "text": [
      "[=======================================================                 ]  76%\r"
     ]
    },
    {
     "name": "stdout",
     "output_type": "stream",
     "text": [
      "799890062\n"
     ]
    },
    {
     "name": "stderr",
     "output_type": "stream",
     "text": [
      "[========================================================                ]  78%\r"
     ]
    },
    {
     "name": "stdout",
     "output_type": "stream",
     "text": [
      "803063130\n"
     ]
    },
    {
     "name": "stderr",
     "output_type": "stream",
     "text": [
      "[=========================================================               ]  79%\r"
     ]
    },
    {
     "name": "stdout",
     "output_type": "stream",
     "text": [
      "803237009\n"
     ]
    },
    {
     "name": "stderr",
     "output_type": "stream",
     "text": [
      "[==========================================================              ]  80%\r"
     ]
    },
    {
     "name": "stdout",
     "output_type": "stream",
     "text": [
      "800151868\n"
     ]
    },
    {
     "name": "stderr",
     "output_type": "stream",
     "text": [
      "[===========================================================             ]  82%\r"
     ]
    },
    {
     "name": "stdout",
     "output_type": "stream",
     "text": [
      "798920347\n"
     ]
    },
    {
     "name": "stderr",
     "output_type": "stream",
     "text": [
      "[============================================================            ]  83%\r"
     ]
    },
    {
     "name": "stdout",
     "output_type": "stream",
     "text": [
      "798938968\n"
     ]
    },
    {
     "name": "stderr",
     "output_type": "stream",
     "text": [
      "[============================================================            ]  84%\r"
     ]
    },
    {
     "name": "stdout",
     "output_type": "stream",
     "text": [
      "798500537\n"
     ]
    },
    {
     "name": "stderr",
     "output_type": "stream",
     "text": [
      "[=============================================================           ]  85%\r"
     ]
    },
    {
     "name": "stdout",
     "output_type": "stream",
     "text": [
      "799095423\n"
     ]
    },
    {
     "name": "stderr",
     "output_type": "stream",
     "text": [
      "[==============================================================          ]  87%\r"
     ]
    },
    {
     "name": "stdout",
     "output_type": "stream",
     "text": [
      "802548622\n"
     ]
    },
    {
     "name": "stderr",
     "output_type": "stream",
     "text": [
      "[===============================================================         ]  88%\r"
     ]
    },
    {
     "name": "stdout",
     "output_type": "stream",
     "text": [
      "789848743\n"
     ]
    },
    {
     "name": "stderr",
     "output_type": "stream",
     "text": [
      "[================================================================        ]  89%\r"
     ]
    },
    {
     "name": "stdout",
     "output_type": "stream",
     "text": [
      "804919130\n"
     ]
    },
    {
     "name": "stderr",
     "output_type": "stream",
     "text": [
      "[=================================================================       ]  91%\r"
     ]
    },
    {
     "name": "stdout",
     "output_type": "stream",
     "text": [
      "805615556\n"
     ]
    },
    {
     "name": "stderr",
     "output_type": "stream",
     "text": [
      "[==================================================================      ]  92%\r"
     ]
    },
    {
     "name": "stdout",
     "output_type": "stream",
     "text": [
      "806172153\n"
     ]
    },
    {
     "name": "stderr",
     "output_type": "stream",
     "text": [
      "[===================================================================     ]  93%\r"
     ]
    },
    {
     "name": "stdout",
     "output_type": "stream",
     "text": [
      "794590232\n"
     ]
    },
    {
     "name": "stderr",
     "output_type": "stream",
     "text": [
      "[====================================================================    ]  94%\r"
     ]
    },
    {
     "name": "stdout",
     "output_type": "stream",
     "text": [
      "806835465\n"
     ]
    },
    {
     "name": "stderr",
     "output_type": "stream",
     "text": [
      "[=====================================================================   ]  96%\r"
     ]
    },
    {
     "name": "stdout",
     "output_type": "stream",
     "text": [
      "795204547\n"
     ]
    },
    {
     "name": "stderr",
     "output_type": "stream",
     "text": [
      "[======================================================================  ]  97%\r"
     ]
    },
    {
     "name": "stdout",
     "output_type": "stream",
     "text": [
      "790856463\n"
     ]
    },
    {
     "name": "stderr",
     "output_type": "stream",
     "text": [
      "[========================================================================] 100%\r"
     ]
    },
    {
     "name": "stdout",
     "output_type": "stream",
     "text": [
      "Could not process some sessions: \n",
      "[693163207, 697608599, 778292916, 799645540]\n"
     ]
    },
    {
     "name": "stderr",
     "output_type": "stream",
     "text": [
      "\n"
     ]
    }
   ],
   "source": [
    "niter = 1000\n",
    "dsi_thresh = 0.25\n",
    "\n",
    "# progress bar across iterations\n",
    "bar = progressbar.ProgressBar(maxval=len(sessions), \\\n",
    "widgets=[progressbar.Bar('=', '[', ']'), ' ', progressbar.Percentage()])\n",
    "bar.start()\n",
    "    \n",
    "    \n",
    "results = pd.DataFrame(columns=('session_id', 'cell_id', 'n_cells', 'drn_accum', 'dsn_accum', 'is_drn', 'is_dsn'))\n",
    "unprocessed_sessions = []\n",
    "for s,session_id in enumerate(sessions):\n",
    "    print session_id\n",
    "    #get cells in dataframe for this session\n",
    "    cells = csv[csv.session_id_y==session_id].id.values\n",
    "    \n",
    "    #get stim_table and mean_sweep_events\n",
    "    datafile = os.path.join(sftffp, str(session_id)+\"_sftf_analysis.h5\")\n",
    "    stim_table = pd.read_hdf(datafile, 'stim_table')\n",
    "    mean_sweep_events = pd.read_hdf(datafile, 'mean_sweep_events')\n",
    "\n",
    "    session_results = np.zeros((len(cells),2))\n",
    "    # bootstrap each cell\n",
    "    for c,cell in enumerate(cells):\n",
    "\n",
    "        # collect pref/null conditions\n",
    "        csv_idx = np.where(csv['id']==cell)[0][0]\n",
    "        pref_dir = csv['pref_dir'].iloc[csv_idx]\n",
    "        null_dir = csv['null_dir'].iloc[csv_idx]#np.mod(pref_dir+180, 360)\n",
    "        pref_tf = csv['pref_tf'].iloc[csv_idx]\n",
    "        pref_sf = csv['pref_sf'].iloc[csv_idx]\n",
    "        null_tf = csv['pref_null_tf'].iloc[csv_idx]\n",
    "        null_sf = csv['pref_null_sf'].iloc[csv_idx]\n",
    "        if np.isnan(pref_dir):\n",
    "            unprocessed_sessions.append(session_id)\n",
    "            break\n",
    "            \n",
    "        # TODO: make sure that rows in stim_table appear in same order \n",
    "        cell_trials = get_cell_trials(mean_sweep_events, stim_table, \\\n",
    "                                      pref_dir, null_dir, \\\n",
    "                                      pref_sf, null_sf, \\\n",
    "                                      pref_tf, null_tf, c)\n",
    "        \n",
    "        drn_accum, dsn_accum = bootstrap(cell_trials, niter, dsi_thresh)\n",
    "        \n",
    "        results = results.append({'session_id': session_id, \\\n",
    "                        'cell_id' : cell, \\\n",
    "                        'n_cells' : len(cells), \\\n",
    "                        'drn_accum' : drn_accum, \\\n",
    "                        'dsn_accum' : dsn_accum, \\\n",
    "                        'is_drn' : drn_accum>niter*.95, \\\n",
    "                        'is_dsn' : dsn_accum>niter*.95}, \\\n",
    "                       ignore_index=True)\n",
    "        \n",
    "    bar.update(s)\n",
    "bar.finish()\n",
    "print \"Could not process some sessions: \"\n",
    "print unprocessed_sessions"
   ]
  },
  {
   "cell_type": "code",
   "execution_count": 19,
   "metadata": {},
   "outputs": [
    {
     "name": "stdout",
     "output_type": "stream",
     "text": [
      "[]\n"
     ]
    }
   ],
   "source": [
    "print sessions"
   ]
  },
  {
   "cell_type": "code",
   "execution_count": 131,
   "metadata": {},
   "outputs": [
    {
     "data": {
      "text/plain": [
       "array([ True,  True,  True,  True,  True,  True,  True,  True,  True,\n",
       "        True,  True,  True,  True,  True,  True,  True,  True,  True])"
      ]
     },
     "execution_count": 131,
     "metadata": {},
     "output_type": "execute_result"
    }
   ],
   "source": [
    "csv[csv.session_id_x==session_id].id.values == cells"
   ]
  },
  {
   "cell_type": "code",
   "execution_count": null,
   "metadata": {
    "collapsed": true
   },
   "outputs": [],
   "source": []
  },
  {
   "cell_type": "code",
   "execution_count": 43,
   "metadata": {},
   "outputs": [
    {
     "data": {
      "text/html": [
       "<div>\n",
       "<style scoped>\n",
       "    .dataframe tbody tr th:only-of-type {\n",
       "        vertical-align: middle;\n",
       "    }\n",
       "\n",
       "    .dataframe tbody tr th {\n",
       "        vertical-align: top;\n",
       "    }\n",
       "\n",
       "    .dataframe thead th {\n",
       "        text-align: right;\n",
       "    }\n",
       "</style>\n",
       "<table border=\"1\" class=\"dataframe\">\n",
       "  <thead>\n",
       "    <tr style=\"text-align: right;\">\n",
       "      <th></th>\n",
       "      <th>session_id</th>\n",
       "      <th>cell_id</th>\n",
       "      <th>n_cells</th>\n",
       "      <th>drn_accum</th>\n",
       "      <th>dsn_accum</th>\n",
       "      <th>is_drn</th>\n",
       "      <th>is_dsn</th>\n",
       "    </tr>\n",
       "  </thead>\n",
       "  <tbody>\n",
       "    <tr>\n",
       "      <th>0</th>\n",
       "      <td>693163510</td>\n",
       "      <td>693314922</td>\n",
       "      <td>27</td>\n",
       "      <td>12</td>\n",
       "      <td>31</td>\n",
       "      <td>False</td>\n",
       "      <td>False</td>\n",
       "    </tr>\n",
       "    <tr>\n",
       "      <th>1</th>\n",
       "      <td>693163510</td>\n",
       "      <td>693314920</td>\n",
       "      <td>27</td>\n",
       "      <td>64</td>\n",
       "      <td>148</td>\n",
       "      <td>False</td>\n",
       "      <td>False</td>\n",
       "    </tr>\n",
       "    <tr>\n",
       "      <th>2</th>\n",
       "      <td>693163510</td>\n",
       "      <td>693314918</td>\n",
       "      <td>27</td>\n",
       "      <td>311</td>\n",
       "      <td>682</td>\n",
       "      <td>False</td>\n",
       "      <td>False</td>\n",
       "    </tr>\n",
       "    <tr>\n",
       "      <th>3</th>\n",
       "      <td>693163510</td>\n",
       "      <td>693314916</td>\n",
       "      <td>27</td>\n",
       "      <td>18</td>\n",
       "      <td>865</td>\n",
       "      <td>False</td>\n",
       "      <td>False</td>\n",
       "    </tr>\n",
       "    <tr>\n",
       "      <th>4</th>\n",
       "      <td>693163510</td>\n",
       "      <td>693314914</td>\n",
       "      <td>27</td>\n",
       "      <td>512</td>\n",
       "      <td>966</td>\n",
       "      <td>False</td>\n",
       "      <td>True</td>\n",
       "    </tr>\n",
       "    <tr>\n",
       "      <th>5</th>\n",
       "      <td>693163510</td>\n",
       "      <td>693314912</td>\n",
       "      <td>27</td>\n",
       "      <td>682</td>\n",
       "      <td>928</td>\n",
       "      <td>False</td>\n",
       "      <td>False</td>\n",
       "    </tr>\n",
       "    <tr>\n",
       "      <th>6</th>\n",
       "      <td>693163510</td>\n",
       "      <td>693314910</td>\n",
       "      <td>27</td>\n",
       "      <td>137</td>\n",
       "      <td>321</td>\n",
       "      <td>False</td>\n",
       "      <td>False</td>\n",
       "    </tr>\n",
       "    <tr>\n",
       "      <th>7</th>\n",
       "      <td>693163510</td>\n",
       "      <td>693314908</td>\n",
       "      <td>27</td>\n",
       "      <td>0</td>\n",
       "      <td>1000</td>\n",
       "      <td>False</td>\n",
       "      <td>True</td>\n",
       "    </tr>\n",
       "    <tr>\n",
       "      <th>8</th>\n",
       "      <td>693163510</td>\n",
       "      <td>693314906</td>\n",
       "      <td>27</td>\n",
       "      <td>15</td>\n",
       "      <td>740</td>\n",
       "      <td>False</td>\n",
       "      <td>False</td>\n",
       "    </tr>\n",
       "    <tr>\n",
       "      <th>9</th>\n",
       "      <td>693163510</td>\n",
       "      <td>693314904</td>\n",
       "      <td>27</td>\n",
       "      <td>485</td>\n",
       "      <td>990</td>\n",
       "      <td>False</td>\n",
       "      <td>True</td>\n",
       "    </tr>\n",
       "    <tr>\n",
       "      <th>10</th>\n",
       "      <td>693163510</td>\n",
       "      <td>693314902</td>\n",
       "      <td>27</td>\n",
       "      <td>978</td>\n",
       "      <td>1000</td>\n",
       "      <td>True</td>\n",
       "      <td>True</td>\n",
       "    </tr>\n",
       "    <tr>\n",
       "      <th>11</th>\n",
       "      <td>693163510</td>\n",
       "      <td>693314900</td>\n",
       "      <td>27</td>\n",
       "      <td>448</td>\n",
       "      <td>940</td>\n",
       "      <td>False</td>\n",
       "      <td>False</td>\n",
       "    </tr>\n",
       "    <tr>\n",
       "      <th>12</th>\n",
       "      <td>693163510</td>\n",
       "      <td>693314898</td>\n",
       "      <td>27</td>\n",
       "      <td>133</td>\n",
       "      <td>278</td>\n",
       "      <td>False</td>\n",
       "      <td>False</td>\n",
       "    </tr>\n",
       "    <tr>\n",
       "      <th>13</th>\n",
       "      <td>693163510</td>\n",
       "      <td>693314896</td>\n",
       "      <td>27</td>\n",
       "      <td>791</td>\n",
       "      <td>1000</td>\n",
       "      <td>False</td>\n",
       "      <td>True</td>\n",
       "    </tr>\n",
       "    <tr>\n",
       "      <th>14</th>\n",
       "      <td>693163510</td>\n",
       "      <td>693314894</td>\n",
       "      <td>27</td>\n",
       "      <td>8</td>\n",
       "      <td>844</td>\n",
       "      <td>False</td>\n",
       "      <td>False</td>\n",
       "    </tr>\n",
       "    <tr>\n",
       "      <th>15</th>\n",
       "      <td>693163510</td>\n",
       "      <td>693314892</td>\n",
       "      <td>27</td>\n",
       "      <td>846</td>\n",
       "      <td>971</td>\n",
       "      <td>False</td>\n",
       "      <td>True</td>\n",
       "    </tr>\n",
       "    <tr>\n",
       "      <th>16</th>\n",
       "      <td>693163510</td>\n",
       "      <td>693314890</td>\n",
       "      <td>27</td>\n",
       "      <td>989</td>\n",
       "      <td>1000</td>\n",
       "      <td>True</td>\n",
       "      <td>True</td>\n",
       "    </tr>\n",
       "    <tr>\n",
       "      <th>17</th>\n",
       "      <td>693163510</td>\n",
       "      <td>693314888</td>\n",
       "      <td>27</td>\n",
       "      <td>0</td>\n",
       "      <td>1000</td>\n",
       "      <td>False</td>\n",
       "      <td>True</td>\n",
       "    </tr>\n",
       "    <tr>\n",
       "      <th>18</th>\n",
       "      <td>693163510</td>\n",
       "      <td>693314886</td>\n",
       "      <td>27</td>\n",
       "      <td>779</td>\n",
       "      <td>947</td>\n",
       "      <td>False</td>\n",
       "      <td>False</td>\n",
       "    </tr>\n",
       "    <tr>\n",
       "      <th>19</th>\n",
       "      <td>693163510</td>\n",
       "      <td>693314884</td>\n",
       "      <td>27</td>\n",
       "      <td>54</td>\n",
       "      <td>163</td>\n",
       "      <td>False</td>\n",
       "      <td>False</td>\n",
       "    </tr>\n",
       "    <tr>\n",
       "      <th>20</th>\n",
       "      <td>693163510</td>\n",
       "      <td>693314882</td>\n",
       "      <td>27</td>\n",
       "      <td>73</td>\n",
       "      <td>743</td>\n",
       "      <td>False</td>\n",
       "      <td>False</td>\n",
       "    </tr>\n",
       "    <tr>\n",
       "      <th>21</th>\n",
       "      <td>693163510</td>\n",
       "      <td>693314880</td>\n",
       "      <td>27</td>\n",
       "      <td>37</td>\n",
       "      <td>489</td>\n",
       "      <td>False</td>\n",
       "      <td>False</td>\n",
       "    </tr>\n",
       "    <tr>\n",
       "      <th>22</th>\n",
       "      <td>693163510</td>\n",
       "      <td>693314878</td>\n",
       "      <td>27</td>\n",
       "      <td>610</td>\n",
       "      <td>638</td>\n",
       "      <td>False</td>\n",
       "      <td>False</td>\n",
       "    </tr>\n",
       "    <tr>\n",
       "      <th>23</th>\n",
       "      <td>693163510</td>\n",
       "      <td>693314876</td>\n",
       "      <td>27</td>\n",
       "      <td>672</td>\n",
       "      <td>865</td>\n",
       "      <td>False</td>\n",
       "      <td>False</td>\n",
       "    </tr>\n",
       "    <tr>\n",
       "      <th>24</th>\n",
       "      <td>693163510</td>\n",
       "      <td>693314874</td>\n",
       "      <td>27</td>\n",
       "      <td>1000</td>\n",
       "      <td>1000</td>\n",
       "      <td>True</td>\n",
       "      <td>True</td>\n",
       "    </tr>\n",
       "    <tr>\n",
       "      <th>25</th>\n",
       "      <td>693163510</td>\n",
       "      <td>693314872</td>\n",
       "      <td>27</td>\n",
       "      <td>915</td>\n",
       "      <td>964</td>\n",
       "      <td>False</td>\n",
       "      <td>True</td>\n",
       "    </tr>\n",
       "    <tr>\n",
       "      <th>26</th>\n",
       "      <td>693163510</td>\n",
       "      <td>693314870</td>\n",
       "      <td>27</td>\n",
       "      <td>9</td>\n",
       "      <td>897</td>\n",
       "      <td>False</td>\n",
       "      <td>False</td>\n",
       "    </tr>\n",
       "    <tr>\n",
       "      <th>27</th>\n",
       "      <td>687293842</td>\n",
       "      <td>687546393</td>\n",
       "      <td>32</td>\n",
       "      <td>49</td>\n",
       "      <td>235</td>\n",
       "      <td>False</td>\n",
       "      <td>False</td>\n",
       "    </tr>\n",
       "    <tr>\n",
       "      <th>28</th>\n",
       "      <td>687293842</td>\n",
       "      <td>687546389</td>\n",
       "      <td>32</td>\n",
       "      <td>141</td>\n",
       "      <td>897</td>\n",
       "      <td>False</td>\n",
       "      <td>False</td>\n",
       "    </tr>\n",
       "    <tr>\n",
       "      <th>29</th>\n",
       "      <td>687293842</td>\n",
       "      <td>687546385</td>\n",
       "      <td>32</td>\n",
       "      <td>203</td>\n",
       "      <td>628</td>\n",
       "      <td>False</td>\n",
       "      <td>False</td>\n",
       "    </tr>\n",
       "    <tr>\n",
       "      <th>...</th>\n",
       "      <td>...</td>\n",
       "      <td>...</td>\n",
       "      <td>...</td>\n",
       "      <td>...</td>\n",
       "      <td>...</td>\n",
       "      <td>...</td>\n",
       "      <td>...</td>\n",
       "    </tr>\n",
       "    <tr>\n",
       "      <th>6387</th>\n",
       "      <td>795204547</td>\n",
       "      <td>795999335</td>\n",
       "      <td>30</td>\n",
       "      <td>353</td>\n",
       "      <td>607</td>\n",
       "      <td>False</td>\n",
       "      <td>False</td>\n",
       "    </tr>\n",
       "    <tr>\n",
       "      <th>6388</th>\n",
       "      <td>795204547</td>\n",
       "      <td>795999333</td>\n",
       "      <td>30</td>\n",
       "      <td>491</td>\n",
       "      <td>988</td>\n",
       "      <td>False</td>\n",
       "      <td>True</td>\n",
       "    </tr>\n",
       "    <tr>\n",
       "      <th>6389</th>\n",
       "      <td>795204547</td>\n",
       "      <td>795999330</td>\n",
       "      <td>30</td>\n",
       "      <td>15</td>\n",
       "      <td>955</td>\n",
       "      <td>False</td>\n",
       "      <td>True</td>\n",
       "    </tr>\n",
       "    <tr>\n",
       "      <th>6390</th>\n",
       "      <td>795204547</td>\n",
       "      <td>795999328</td>\n",
       "      <td>30</td>\n",
       "      <td>5</td>\n",
       "      <td>898</td>\n",
       "      <td>False</td>\n",
       "      <td>False</td>\n",
       "    </tr>\n",
       "    <tr>\n",
       "      <th>6391</th>\n",
       "      <td>795204547</td>\n",
       "      <td>795999326</td>\n",
       "      <td>30</td>\n",
       "      <td>804</td>\n",
       "      <td>842</td>\n",
       "      <td>False</td>\n",
       "      <td>False</td>\n",
       "    </tr>\n",
       "    <tr>\n",
       "      <th>6392</th>\n",
       "      <td>795204547</td>\n",
       "      <td>795999323</td>\n",
       "      <td>30</td>\n",
       "      <td>100</td>\n",
       "      <td>745</td>\n",
       "      <td>False</td>\n",
       "      <td>False</td>\n",
       "    </tr>\n",
       "    <tr>\n",
       "      <th>6393</th>\n",
       "      <td>795204547</td>\n",
       "      <td>795999321</td>\n",
       "      <td>30</td>\n",
       "      <td>56</td>\n",
       "      <td>1000</td>\n",
       "      <td>False</td>\n",
       "      <td>True</td>\n",
       "    </tr>\n",
       "    <tr>\n",
       "      <th>6394</th>\n",
       "      <td>795204547</td>\n",
       "      <td>795999319</td>\n",
       "      <td>30</td>\n",
       "      <td>88</td>\n",
       "      <td>131</td>\n",
       "      <td>False</td>\n",
       "      <td>False</td>\n",
       "    </tr>\n",
       "    <tr>\n",
       "      <th>6395</th>\n",
       "      <td>795204547</td>\n",
       "      <td>795999317</td>\n",
       "      <td>30</td>\n",
       "      <td>3</td>\n",
       "      <td>874</td>\n",
       "      <td>False</td>\n",
       "      <td>False</td>\n",
       "    </tr>\n",
       "    <tr>\n",
       "      <th>6396</th>\n",
       "      <td>795204547</td>\n",
       "      <td>795999315</td>\n",
       "      <td>30</td>\n",
       "      <td>313</td>\n",
       "      <td>342</td>\n",
       "      <td>False</td>\n",
       "      <td>False</td>\n",
       "    </tr>\n",
       "    <tr>\n",
       "      <th>6397</th>\n",
       "      <td>795204547</td>\n",
       "      <td>795999312</td>\n",
       "      <td>30</td>\n",
       "      <td>987</td>\n",
       "      <td>1000</td>\n",
       "      <td>True</td>\n",
       "      <td>True</td>\n",
       "    </tr>\n",
       "    <tr>\n",
       "      <th>6398</th>\n",
       "      <td>795204547</td>\n",
       "      <td>795999310</td>\n",
       "      <td>30</td>\n",
       "      <td>408</td>\n",
       "      <td>1000</td>\n",
       "      <td>False</td>\n",
       "      <td>True</td>\n",
       "    </tr>\n",
       "    <tr>\n",
       "      <th>6399</th>\n",
       "      <td>790856463</td>\n",
       "      <td>791409488</td>\n",
       "      <td>18</td>\n",
       "      <td>632</td>\n",
       "      <td>669</td>\n",
       "      <td>False</td>\n",
       "      <td>False</td>\n",
       "    </tr>\n",
       "    <tr>\n",
       "      <th>6400</th>\n",
       "      <td>790856463</td>\n",
       "      <td>791409486</td>\n",
       "      <td>18</td>\n",
       "      <td>12</td>\n",
       "      <td>860</td>\n",
       "      <td>False</td>\n",
       "      <td>False</td>\n",
       "    </tr>\n",
       "    <tr>\n",
       "      <th>6401</th>\n",
       "      <td>790856463</td>\n",
       "      <td>791409484</td>\n",
       "      <td>18</td>\n",
       "      <td>42</td>\n",
       "      <td>408</td>\n",
       "      <td>False</td>\n",
       "      <td>False</td>\n",
       "    </tr>\n",
       "    <tr>\n",
       "      <th>6402</th>\n",
       "      <td>790856463</td>\n",
       "      <td>791409482</td>\n",
       "      <td>18</td>\n",
       "      <td>1</td>\n",
       "      <td>668</td>\n",
       "      <td>False</td>\n",
       "      <td>False</td>\n",
       "    </tr>\n",
       "    <tr>\n",
       "      <th>6403</th>\n",
       "      <td>790856463</td>\n",
       "      <td>791409480</td>\n",
       "      <td>18</td>\n",
       "      <td>421</td>\n",
       "      <td>740</td>\n",
       "      <td>False</td>\n",
       "      <td>False</td>\n",
       "    </tr>\n",
       "    <tr>\n",
       "      <th>6404</th>\n",
       "      <td>790856463</td>\n",
       "      <td>791409478</td>\n",
       "      <td>18</td>\n",
       "      <td>8</td>\n",
       "      <td>26</td>\n",
       "      <td>False</td>\n",
       "      <td>False</td>\n",
       "    </tr>\n",
       "    <tr>\n",
       "      <th>6405</th>\n",
       "      <td>790856463</td>\n",
       "      <td>791409476</td>\n",
       "      <td>18</td>\n",
       "      <td>154</td>\n",
       "      <td>404</td>\n",
       "      <td>False</td>\n",
       "      <td>False</td>\n",
       "    </tr>\n",
       "    <tr>\n",
       "      <th>6406</th>\n",
       "      <td>790856463</td>\n",
       "      <td>791409474</td>\n",
       "      <td>18</td>\n",
       "      <td>611</td>\n",
       "      <td>999</td>\n",
       "      <td>False</td>\n",
       "      <td>True</td>\n",
       "    </tr>\n",
       "    <tr>\n",
       "      <th>6407</th>\n",
       "      <td>790856463</td>\n",
       "      <td>791409472</td>\n",
       "      <td>18</td>\n",
       "      <td>32</td>\n",
       "      <td>325</td>\n",
       "      <td>False</td>\n",
       "      <td>False</td>\n",
       "    </tr>\n",
       "    <tr>\n",
       "      <th>6408</th>\n",
       "      <td>790856463</td>\n",
       "      <td>791409470</td>\n",
       "      <td>18</td>\n",
       "      <td>228</td>\n",
       "      <td>590</td>\n",
       "      <td>False</td>\n",
       "      <td>False</td>\n",
       "    </tr>\n",
       "    <tr>\n",
       "      <th>6409</th>\n",
       "      <td>790856463</td>\n",
       "      <td>791409468</td>\n",
       "      <td>18</td>\n",
       "      <td>4</td>\n",
       "      <td>15</td>\n",
       "      <td>False</td>\n",
       "      <td>False</td>\n",
       "    </tr>\n",
       "    <tr>\n",
       "      <th>6410</th>\n",
       "      <td>790856463</td>\n",
       "      <td>791409466</td>\n",
       "      <td>18</td>\n",
       "      <td>6</td>\n",
       "      <td>258</td>\n",
       "      <td>False</td>\n",
       "      <td>False</td>\n",
       "    </tr>\n",
       "    <tr>\n",
       "      <th>6411</th>\n",
       "      <td>790856463</td>\n",
       "      <td>791409464</td>\n",
       "      <td>18</td>\n",
       "      <td>24</td>\n",
       "      <td>87</td>\n",
       "      <td>False</td>\n",
       "      <td>False</td>\n",
       "    </tr>\n",
       "    <tr>\n",
       "      <th>6412</th>\n",
       "      <td>790856463</td>\n",
       "      <td>791409462</td>\n",
       "      <td>18</td>\n",
       "      <td>52</td>\n",
       "      <td>141</td>\n",
       "      <td>False</td>\n",
       "      <td>False</td>\n",
       "    </tr>\n",
       "    <tr>\n",
       "      <th>6413</th>\n",
       "      <td>790856463</td>\n",
       "      <td>791409460</td>\n",
       "      <td>18</td>\n",
       "      <td>17</td>\n",
       "      <td>756</td>\n",
       "      <td>False</td>\n",
       "      <td>False</td>\n",
       "    </tr>\n",
       "    <tr>\n",
       "      <th>6414</th>\n",
       "      <td>790856463</td>\n",
       "      <td>791409458</td>\n",
       "      <td>18</td>\n",
       "      <td>34</td>\n",
       "      <td>559</td>\n",
       "      <td>False</td>\n",
       "      <td>False</td>\n",
       "    </tr>\n",
       "    <tr>\n",
       "      <th>6415</th>\n",
       "      <td>790856463</td>\n",
       "      <td>791409456</td>\n",
       "      <td>18</td>\n",
       "      <td>70</td>\n",
       "      <td>198</td>\n",
       "      <td>False</td>\n",
       "      <td>False</td>\n",
       "    </tr>\n",
       "    <tr>\n",
       "      <th>6416</th>\n",
       "      <td>790856463</td>\n",
       "      <td>791409454</td>\n",
       "      <td>18</td>\n",
       "      <td>335</td>\n",
       "      <td>462</td>\n",
       "      <td>False</td>\n",
       "      <td>False</td>\n",
       "    </tr>\n",
       "  </tbody>\n",
       "</table>\n",
       "<p>6417 rows × 7 columns</p>\n",
       "</div>"
      ],
      "text/plain": [
       "     session_id    cell_id n_cells drn_accum dsn_accum is_drn is_dsn\n",
       "0     693163510  693314922      27        12        31  False  False\n",
       "1     693163510  693314920      27        64       148  False  False\n",
       "2     693163510  693314918      27       311       682  False  False\n",
       "3     693163510  693314916      27        18       865  False  False\n",
       "4     693163510  693314914      27       512       966  False   True\n",
       "5     693163510  693314912      27       682       928  False  False\n",
       "6     693163510  693314910      27       137       321  False  False\n",
       "7     693163510  693314908      27         0      1000  False   True\n",
       "8     693163510  693314906      27        15       740  False  False\n",
       "9     693163510  693314904      27       485       990  False   True\n",
       "10    693163510  693314902      27       978      1000   True   True\n",
       "11    693163510  693314900      27       448       940  False  False\n",
       "12    693163510  693314898      27       133       278  False  False\n",
       "13    693163510  693314896      27       791      1000  False   True\n",
       "14    693163510  693314894      27         8       844  False  False\n",
       "15    693163510  693314892      27       846       971  False   True\n",
       "16    693163510  693314890      27       989      1000   True   True\n",
       "17    693163510  693314888      27         0      1000  False   True\n",
       "18    693163510  693314886      27       779       947  False  False\n",
       "19    693163510  693314884      27        54       163  False  False\n",
       "20    693163510  693314882      27        73       743  False  False\n",
       "21    693163510  693314880      27        37       489  False  False\n",
       "22    693163510  693314878      27       610       638  False  False\n",
       "23    693163510  693314876      27       672       865  False  False\n",
       "24    693163510  693314874      27      1000      1000   True   True\n",
       "25    693163510  693314872      27       915       964  False   True\n",
       "26    693163510  693314870      27         9       897  False  False\n",
       "27    687293842  687546393      32        49       235  False  False\n",
       "28    687293842  687546389      32       141       897  False  False\n",
       "29    687293842  687546385      32       203       628  False  False\n",
       "...         ...        ...     ...       ...       ...    ...    ...\n",
       "6387  795204547  795999335      30       353       607  False  False\n",
       "6388  795204547  795999333      30       491       988  False   True\n",
       "6389  795204547  795999330      30        15       955  False   True\n",
       "6390  795204547  795999328      30         5       898  False  False\n",
       "6391  795204547  795999326      30       804       842  False  False\n",
       "6392  795204547  795999323      30       100       745  False  False\n",
       "6393  795204547  795999321      30        56      1000  False   True\n",
       "6394  795204547  795999319      30        88       131  False  False\n",
       "6395  795204547  795999317      30         3       874  False  False\n",
       "6396  795204547  795999315      30       313       342  False  False\n",
       "6397  795204547  795999312      30       987      1000   True   True\n",
       "6398  795204547  795999310      30       408      1000  False   True\n",
       "6399  790856463  791409488      18       632       669  False  False\n",
       "6400  790856463  791409486      18        12       860  False  False\n",
       "6401  790856463  791409484      18        42       408  False  False\n",
       "6402  790856463  791409482      18         1       668  False  False\n",
       "6403  790856463  791409480      18       421       740  False  False\n",
       "6404  790856463  791409478      18         8        26  False  False\n",
       "6405  790856463  791409476      18       154       404  False  False\n",
       "6406  790856463  791409474      18       611       999  False   True\n",
       "6407  790856463  791409472      18        32       325  False  False\n",
       "6408  790856463  791409470      18       228       590  False  False\n",
       "6409  790856463  791409468      18         4        15  False  False\n",
       "6410  790856463  791409466      18         6       258  False  False\n",
       "6411  790856463  791409464      18        24        87  False  False\n",
       "6412  790856463  791409462      18        52       141  False  False\n",
       "6413  790856463  791409460      18        17       756  False  False\n",
       "6414  790856463  791409458      18        34       559  False  False\n",
       "6415  790856463  791409456      18        70       198  False  False\n",
       "6416  790856463  791409454      18       335       462  False  False\n",
       "\n",
       "[6417 rows x 7 columns]"
      ]
     },
     "execution_count": 43,
     "metadata": {},
     "output_type": "execute_result"
    }
   ],
   "source": [
    "results"
   ]
  },
  {
   "cell_type": "code",
   "execution_count": 45,
   "metadata": {
    "collapsed": true
   },
   "outputs": [],
   "source": [
    "results.to_csv(bfp + \"results/bootstrapping/sftf_results_dsi25.csv\")"
   ]
  },
  {
   "cell_type": "code",
   "execution_count": 44,
   "metadata": {},
   "outputs": [
    {
     "name": "stdout",
     "output_type": "stream",
     "text": [
      "DSI_pref>0.25, SFTF:\n",
      "    n_drns = 444\n",
      "    n_dsns = 2751\n",
      "    n_cells = 6344\n",
      "    n_drns/n_cells = 0.0699873896595\n",
      "    n_dsns/n_cells = 0.433638083228\n",
      "    n_drns/n_dsns = 0.161395856052\n"
     ]
    }
   ],
   "source": [
    "print \"DSI_pref>0.25, SFTF:\"\n",
    "print \"    n_drns = \" + str(sum(results.is_drn))\n",
    "print \"    n_dsns = \" + str(sum(results.is_dsn))\n",
    "print \"    n_cells = \" + str(sum(np.unique(results.n_cells)))\n",
    "print \"    n_drns/n_cells = \" + str(sum(results.is_drn)/float(sum(np.unique(results.n_cells))))\n",
    "print \"    n_dsns/n_cells = \" + str(sum(results.is_dsn)/float(sum(np.unique(results.n_cells))))\n",
    "print \"    n_drns/n_dsns = \" + str(sum(results.is_drn)/float(sum(results.is_dsn)))\n"
   ]
  },
  {
   "cell_type": "code",
   "execution_count": 121,
   "metadata": {
    "collapsed": true
   },
   "outputs": [],
   "source": [
    "sums=results.sum(axis = 0, skipna = True)\n"
   ]
  },
  {
   "cell_type": "code",
   "execution_count": 119,
   "metadata": {
    "collapsed": true
   },
   "outputs": [],
   "source": [
    "total_cells = sum(results.n_cells.unique())"
   ]
  },
  {
   "cell_type": "code",
   "execution_count": 127,
   "metadata": {},
   "outputs": [
    {
     "name": "stdout",
     "output_type": "stream",
     "text": [
      "0.06557377049180328\n",
      "0.1641025641025641\n",
      "0.39959016393442626\n"
     ]
    }
   ],
   "source": [
    "print sums.is_drn/float(total_cells)\n",
    "print sums.is_drn/float(sums.is_dsn)\n",
    "print sums.is_dsn/float(total_cells)"
   ]
  },
  {
   "cell_type": "code",
   "execution_count": null,
   "metadata": {
    "collapsed": true
   },
   "outputs": [],
   "source": []
  }
 ],
 "metadata": {
  "kernelspec": {
   "display_name": "Python 2",
   "language": "python",
   "name": "python2"
  },
  "language_info": {
   "codemirror_mode": {
    "name": "ipython",
    "version": 2
   },
   "file_extension": ".py",
   "mimetype": "text/x-python",
   "name": "python",
   "nbconvert_exporter": "python",
   "pygments_lexer": "ipython2",
   "version": "2.7.3"
  }
 },
 "nbformat": 4,
 "nbformat_minor": 2
}
