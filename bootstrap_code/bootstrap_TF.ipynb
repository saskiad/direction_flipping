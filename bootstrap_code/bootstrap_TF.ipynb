{
 "cells": [
  {
   "cell_type": "code",
   "execution_count": null,
   "metadata": {
    "collapsed": true
   },
   "outputs": [],
   "source": [
    "# Iman Wahle\n",
    "# August 2019\n",
    "# Bootstrap process to identify DSNs and DSNs for cells \n",
    "# in TF-varied drifting-grating experiments in Allen Brain Observatory"
   ]
  },
  {
   "cell_type": "code",
   "execution_count": null,
   "metadata": {
    "collapsed": true
   },
   "outputs": [],
   "source": [
    "import numpy as np\n",
    "import pandas as pd\n",
    "import os\n",
    "import sys\n",
    "import h5py\n",
    "import progressbar\n",
    "\n",
    "\n",
    "import matplotlib.pyplot as plt\n",
    "%matplotlib inline\n",
    "\n",
    "from allensdk.core.brain_observatory_cache import BrainObservatoryCache\n",
    "import allensdk.brain_observatory.stimulus_info as stim_info\n",
    "\n",
    "# set paths\n",
    "# got these from here: https://github.com/AllenInstitute/visual_coding_2p_analysis/blob/master/visual_coding_2p_analysis/core.py\n",
    "save_path = \"/allen/programs/braintv/workgroups/cortexmodels/michaelbu/ObservatoryPlatformPaperAnalysis/event_analysis_files_2018_09_25\" \n",
    "manifest_file = \"/allen/programs/braintv/workgroups/cortexmodels/michaelbu/ObservatoryPlatformPaperAnalysis/platform_boc_2018_09_25/manifest.json\"\n",
    "\n",
    "# retrieve data cache\n",
    "boc = BrainObservatoryCache(manifest_file=manifest_file)"
   ]
  },
  {
   "cell_type": "code",
   "execution_count": 6,
   "metadata": {
    "collapsed": true
   },
   "outputs": [],
   "source": [
    "bfp = \"/allen/programs/braintv/workgroups/nc-ophys/Iman/direction_flipping/\""
   ]
  },
  {
   "cell_type": "code",
   "execution_count": 7,
   "metadata": {
    "collapsed": true
   },
   "outputs": [],
   "source": [
    "# load session info once\n",
    "csv = pd.read_csv(bfp + \"resources/dgtf_events_all.csv\")"
   ]
  },
  {
   "cell_type": "code",
   "execution_count": 12,
   "metadata": {
    "collapsed": true
   },
   "outputs": [],
   "source": [
    "sessions = np.load(bfp + \"resources/dg456_sessions.npy\")"
   ]
  },
  {
   "cell_type": "code",
   "execution_count": 26,
   "metadata": {
    "collapsed": true
   },
   "outputs": [],
   "source": [
    "# given a cell_id, returns a (2,2,n_trials) array\n",
    "# that has cell responses at ((pref_dir, null_dir) x (pref_sftf, null_sftf) x 15 trials)\n",
    "\n",
    "def get_cell_trials(mean_sweep_events, stim_table, pref_dir, null_dir, pref_tf, null_tf, c):\n",
    "    zz = mean_sweep_events[(stim_table.orientation==pref_dir)&(stim_table.temporal_frequency==pref_tf)][str(c)].values\n",
    "    oz = mean_sweep_events[(stim_table.orientation==null_dir)&(stim_table.temporal_frequency==pref_tf)][str(c)].values\n",
    "    zo = mean_sweep_events[(stim_table.orientation==pref_dir)&(stim_table.temporal_frequency==null_tf)][str(c)].values\n",
    "    oo = mean_sweep_events[(stim_table.orientation==null_dir)&(stim_table.temporal_frequency==null_tf)][str(c)].values\n",
    "    n_trials = min([len(zz), len(oz), len(zo), len(oo)])\n",
    "    cell_trials = np.empty((2,2,n_trials))\n",
    "    cell_trials[0,0,:] = zz[:n_trials]\n",
    "    cell_trials[1,0,:] = oz[:n_trials]\n",
    "    cell_trials[0,1,:] = zo[:n_trials]\n",
    "    cell_trials[1,1,:] = oo[:n_trials]\n",
    "    return cell_trials"
   ]
  },
  {
   "cell_type": "code",
   "execution_count": 9,
   "metadata": {
    "collapsed": true
   },
   "outputs": [],
   "source": [
    "def get_dsi(tf, response):\n",
    "    pref_dir = 0\n",
    "    null_dir = 1\n",
    "    pref = response[pref_dir, tf]\n",
    "    null = response[null_dir, tf]\n",
    "    return ((pref - null) / float(pref + null))"
   ]
  },
  {
   "cell_type": "code",
   "execution_count": 10,
   "metadata": {
    "collapsed": true
   },
   "outputs": [],
   "source": [
    "def bootstrap(cell_trials, niter, dsi_thresh):\n",
    "\n",
    "#     # progress bar across iterations\n",
    "#     bar = progressbar.ProgressBar(maxval=niter, \\\n",
    "#     widgets=[progressbar.Bar('=', '[', ']'), ' ', progressbar.Percentage()])\n",
    "#     bar.start()\n",
    "    \n",
    "    # repeat sampling 1000 times\n",
    "    drn_accum = 0\n",
    "    dsn_accum = 0\n",
    "\n",
    "    for i in range(niter):\n",
    "        \n",
    "        # generate response events stats with new sampling\n",
    "        response_events_sample = np.empty((2, 2)) # (pref_dir=0, null_dir=1) x (pref_tf=0, null_tf=1)\n",
    "        response_events_sample[:] = np.nan\n",
    "\n",
    "        # calculate mean response across new sampling at each dir/tf combination\n",
    "        for d in range(2): # pref_dir, null_dir\n",
    "            for t in range(2): # pref_tf, null_tf\n",
    "\n",
    "                # sample n_trials di x tf trials from mean_sweep_events\n",
    "                n_trials = cell_trials.shape[2]\n",
    "                sample_trials_idx = np.random.choice(n_trials, n_trials, replace=True)\n",
    "                sample_mse = cell_trials[d,t,sample_trials_idx]\n",
    "\n",
    "                # calculate stats\n",
    "                response_events_sample[d,t] = np.mean(sample_mse)\n",
    "\n",
    "\n",
    "        # DSI statistics\n",
    "        DSI_pref = get_dsi(0, response_events_sample)\n",
    "        DSI_null = get_dsi(1, response_events_sample)\n",
    "        DSI_ratio = DSI_null / float(DSI_pref)\n",
    "        \n",
    "        # apply criteria\n",
    "        check_drn = (DSI_ratio<0) & (DSI_pref>dsi_thresh)\n",
    "        check_dsn = (DSI_pref>dsi_thresh)\n",
    "\n",
    "        drn_accum += check_drn\n",
    "        dsn_accum += check_dsn\n",
    "            \n",
    "#         bar.update(i)\n",
    "        \n",
    "#     bar.finish()\n",
    "\n",
    "    return drn_accum, dsn_accum"
   ]
  },
  {
   "cell_type": "code",
   "execution_count": 33,
   "metadata": {
    "scrolled": false
   },
   "outputs": [
    {
     "name": "stderr",
     "output_type": "stream",
     "text": [
      "/Users/imanwahle/anaconda2/lib/python2.7/site-packages/ipykernel_launcher.py:6: RuntimeWarning: invalid value encountered in double_scalars\n",
      "  \n",
      "[========================================================================] 100%\r"
     ]
    },
    {
     "name": "stdout",
     "output_type": "stream",
     "text": [
      "Could not process some sessions: \n",
      "[673171528, 712178483, 671618887, 669861524, 715923832, 683257169, 680150733, 645256361, 672206735, 688678766, 674276329, 676503588, 672211004, 710778377, 670395999, 671164733, 680156911, 673475020, 710504563, 671164927, 675477919, 692345003, 673914981, 670728674, 676024666]\n"
     ]
    },
    {
     "name": "stderr",
     "output_type": "stream",
     "text": [
      "\n"
     ]
    }
   ],
   "source": [
    "niter = 1000\n",
    "dsi_thresh = 0.25\n",
    "\n",
    "# progress bar across iterations\n",
    "bar = progressbar.ProgressBar(maxval=len(sessions), \\\n",
    "widgets=[progressbar.Bar('=', '[', ']'), ' ', progressbar.Percentage()])\n",
    "bar.start()\n",
    "    \n",
    "    \n",
    "results = pd.DataFrame(columns=('session_id', 'cell_id', 'n_cells', 'drn_accum', 'dsn_accum', 'is_drn', 'is_dsn'))\n",
    "unprocessed_sessions = []\n",
    "for s,session_id in enumerate(sessions):\n",
    "\n",
    "    try:\n",
    "        #get stim_table and mean_sweep_events\n",
    "        data_set = boc.get_ophys_experiment_data(int(session_id))\n",
    "        cells = data_set.get_cell_specimen_ids()\n",
    "        stim_table = data_set.get_stimulus_table(stim_info.DRIFTING_GRATINGS)    \n",
    "        data_file_dg = os.path.join(save_path,'DriftingGratings', \n",
    "                                    str(session_id) + \"_dg_events_analysis.h5\")\n",
    "        mean_sweep_events = pd.read_hdf(data_file_dg, 'mean_sweep_events')\n",
    "    except:\n",
    "        unprocessed_sessions.append(session_id)\n",
    "        continue\n",
    "        \n",
    "    session_results = np.zeros((len(cells),2))\n",
    "    # bootstrap each cell\n",
    "    for c,cell in enumerate(cells):\n",
    "\n",
    "        # collect pref/null conditions\n",
    "        csv_idx = np.where(csv['cell_specimen_id']==cell)[0][0]\n",
    "        pref_dir = csv['pref_dir'].iloc[csv_idx]\n",
    "        null_dir = np.mod(pref_dir+180, 360)\n",
    "        pref_tf = csv['pref_tf'].iloc[csv_idx]\n",
    "        null_tf = csv['pref_null_tf'].iloc[csv_idx]\n",
    "        \n",
    "        if np.isnan(pref_dir):\n",
    "            unprocessed_sessions.append(session_id)\n",
    "            break\n",
    "            \n",
    "        cell_trials = get_cell_trials(mean_sweep_events, stim_table, \\\n",
    "                                      pref_dir, null_dir, \\\n",
    "                                      pref_tf, null_tf, c)\n",
    "        \n",
    "        drn_accum, dsn_accum = bootstrap(cell_trials, niter, dsi_thresh)\n",
    "        \n",
    "        results = results.append({'session_id': session_id, \\\n",
    "                        'cell_id' : cell, \\\n",
    "                        'n_cells' : len(cells), \\\n",
    "                        'drn_accum' : drn_accum, \\\n",
    "                        'dsn_accum' : dsn_accum, \\\n",
    "                        'is_drn' : drn_accum>niter*.95, \\\n",
    "                        'is_dsn' : dsn_accum>niter*.95}, \\\n",
    "                       ignore_index=True)\n",
    "        \n",
    "    bar.update(s)\n",
    "bar.finish()\n",
    "print \"Could not process some sessions: \"\n",
    "print unprocessed_sessions"
   ]
  },
  {
   "cell_type": "code",
   "execution_count": 73,
   "metadata": {
    "collapsed": true
   },
   "outputs": [],
   "source": [
    "# results.to_csv(bfp + \"bootstrap_code/results/bootstrap_results_dsi25.csv\")"
   ]
  },
  {
   "cell_type": "code",
   "execution_count": 53,
   "metadata": {},
   "outputs": [
    {
     "data": {
      "text/html": [
       "<div>\n",
       "<style scoped>\n",
       "    .dataframe tbody tr th:only-of-type {\n",
       "        vertical-align: middle;\n",
       "    }\n",
       "\n",
       "    .dataframe tbody tr th {\n",
       "        vertical-align: top;\n",
       "    }\n",
       "\n",
       "    .dataframe thead th {\n",
       "        text-align: right;\n",
       "    }\n",
       "</style>\n",
       "<table border=\"1\" class=\"dataframe\">\n",
       "  <thead>\n",
       "    <tr style=\"text-align: right;\">\n",
       "      <th></th>\n",
       "      <th>session_id</th>\n",
       "      <th>cell_id</th>\n",
       "      <th>n_cells</th>\n",
       "      <th>drn_accum</th>\n",
       "      <th>dsn_accum</th>\n",
       "      <th>is_drn</th>\n",
       "      <th>is_dsn</th>\n",
       "    </tr>\n",
       "  </thead>\n",
       "  <tbody>\n",
       "    <tr>\n",
       "      <th>0</th>\n",
       "      <td>556353209</td>\n",
       "      <td>557374817</td>\n",
       "      <td>21</td>\n",
       "      <td>585</td>\n",
       "      <td>986</td>\n",
       "      <td>False</td>\n",
       "      <td>True</td>\n",
       "    </tr>\n",
       "    <tr>\n",
       "      <th>1</th>\n",
       "      <td>556353209</td>\n",
       "      <td>557374888</td>\n",
       "      <td>21</td>\n",
       "      <td>22</td>\n",
       "      <td>954</td>\n",
       "      <td>False</td>\n",
       "      <td>True</td>\n",
       "    </tr>\n",
       "    <tr>\n",
       "      <th>2</th>\n",
       "      <td>556353209</td>\n",
       "      <td>557374807</td>\n",
       "      <td>21</td>\n",
       "      <td>409</td>\n",
       "      <td>438</td>\n",
       "      <td>False</td>\n",
       "      <td>False</td>\n",
       "    </tr>\n",
       "    <tr>\n",
       "      <th>3</th>\n",
       "      <td>556353209</td>\n",
       "      <td>557374802</td>\n",
       "      <td>21</td>\n",
       "      <td>480</td>\n",
       "      <td>616</td>\n",
       "      <td>False</td>\n",
       "      <td>False</td>\n",
       "    </tr>\n",
       "    <tr>\n",
       "      <th>4</th>\n",
       "      <td>556353209</td>\n",
       "      <td>557374843</td>\n",
       "      <td>21</td>\n",
       "      <td>628</td>\n",
       "      <td>801</td>\n",
       "      <td>False</td>\n",
       "      <td>False</td>\n",
       "    </tr>\n",
       "  </tbody>\n",
       "</table>\n",
       "</div>"
      ],
      "text/plain": [
       "  session_id    cell_id n_cells drn_accum dsn_accum is_drn is_dsn\n",
       "0  556353209  557374817      21       585       986  False   True\n",
       "1  556353209  557374888      21        22       954  False   True\n",
       "2  556353209  557374807      21       409       438  False  False\n",
       "3  556353209  557374802      21       480       616  False  False\n",
       "4  556353209  557374843      21       628       801  False  False"
      ]
     },
     "execution_count": 53,
     "metadata": {},
     "output_type": "execute_result"
    }
   ],
   "source": [
    "results.head()"
   ]
  }
 ],
 "metadata": {
  "kernelspec": {
   "display_name": "Python 2",
   "language": "python",
   "name": "python2"
  },
  "language_info": {
   "codemirror_mode": {
    "name": "ipython",
    "version": 2
   },
   "file_extension": ".py",
   "mimetype": "text/x-python",
   "name": "python",
   "nbconvert_exporter": "python",
   "pygments_lexer": "ipython2",
   "version": "2.7.3"
  }
 },
 "nbformat": 4,
 "nbformat_minor": 2
}
