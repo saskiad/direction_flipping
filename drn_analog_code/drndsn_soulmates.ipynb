{
 "cells": [
  {
   "cell_type": "code",
   "execution_count": 1,
   "metadata": {
    "collapsed": true
   },
   "outputs": [],
   "source": [
    "# Iman Wahle\n",
    "# August 27 2019\n",
    "# Find analogous DSNs for each DRN in a session"
   ]
  },
  {
   "cell_type": "code",
   "execution_count": 2,
   "metadata": {},
   "outputs": [
    {
     "name": "stderr",
     "output_type": "stream",
     "text": [
      "/Users/imanwahle/anaconda2/lib/python2.7/site-packages/cryptography/hazmat/primitives/constant_time.py:26: CryptographyDeprecationWarning: Support for your Python version is deprecated. The next version of cryptography will remove support. Please upgrade to a release (2.7.7+) that supports hmac.compare_digest as soon as possible.\n",
      "  utils.PersistentlyDeprecated2018,\n"
     ]
    }
   ],
   "source": [
    "import matplotlib as mpl\n",
    "%matplotlib inline\n",
    "import matplotlib.pyplot as plt\n",
    "\n",
    "from allensdk.core.brain_observatory_cache import BrainObservatoryCache\n",
    "import allensdk.brain_observatory.stimulus_info as stim_info\n",
    "\n",
    "import numpy as np\n",
    "import os\n",
    "import sys\n",
    "import h5py\n",
    "import pandas as pd\n",
    "import progressbar\n",
    "from scipy import stats\n",
    "import time\n",
    "\n",
    "# home = \"/allen\" \n",
    "home = \"/Volumes\"\n",
    "\n",
    "# set paths\n",
    "# got these from here: https://github.com/AllenInstitute/ ...\n",
    "# visual_coding_2p_analysis/blob/master/visual_coding_2p_analysis/core.py\n",
    "save_path = home + \"/programs/braintv/workgroups/cortexmodels/michaelbu/\" + \\\n",
    "    \"ObservatoryPlatformPaperAnalysis/event_analysis_files_2018_09_25\" \n",
    "manifest_file = home + \"/programs/braintv/workgroups/cortexmodels/michaelbu/\"+\\\n",
    "    \"ObservatoryPlatformPaperAnalysis/platform_boc_2018_09_25/manifest.json\"\n",
    "\n",
    "# retrieve data cache\n",
    "boc = BrainObservatoryCache(manifest_file=manifest_file)"
   ]
  },
  {
   "cell_type": "code",
   "execution_count": 3,
   "metadata": {
    "collapsed": true
   },
   "outputs": [],
   "source": [
    "# load data\n",
    "path = \"/Volumes/programs/braintv/workgroups/nc-ophys/Iman/direction_flipping/stimulus_classification/\"\n",
    "csv = pd.read_csv(path + \"dgtf_events_all_bootstrap_dsi.csv\")\n",
    "cell_id_key = csv['cell_specimen_id']\n",
    "is_drn_key = csv['is_drn']\n",
    "is_dsn_key = csv['is_dsn']\n",
    "sessions = np.load(path + \"drn4bs_sessions.npy\")"
   ]
  },
  {
   "cell_type": "code",
   "execution_count": 17,
   "metadata": {
    "collapsed": true
   },
   "outputs": [],
   "source": [
    "# method to find so(ul)ma mate given a drn and dsns\n",
    "# returns matching dsn's cell_id and number indicating which matching case it fell into\n",
    "def find_soulmate(drn_id, dsn_csv):\n",
    "    \n",
    "    # drn info\n",
    "    drn_idx = np.where(csv.cell_specimen_id==drn_id)[0][0]\n",
    "    pref_dir = csv.pref_dir[drn_idx]\n",
    "    pref_tf = csv.pref_tf[drn_idx]\n",
    "    dsi_pref = csv.dsi_pref[drn_idx]\n",
    "    \n",
    "\n",
    "    # case 0: matching pref_dir, matching pref_tf, closest dsi_pref\n",
    "    options = dsn_csv[(dsn_csv.pref_dir==pref_dir) & (dsn_csv.pref_tf==pref_tf) & (dsn_csv.is_drn==0)].reset_index(drop=True)\n",
    "    if len(options) > 0:\n",
    "        chosen_one = np.argmin(abs(options.dsi_pref-dsi_pref))\n",
    "        return options.cell_specimen_id[chosen_one], 0\n",
    "    \n",
    "    # case 1: matching pref_dir, closest pref_tf\n",
    "    options = dsn_csv[(dsn_csv.pref_dir==pref_dir) & (dsn_csv.is_drn==0)].reset_index(drop=True)\n",
    "    if len(options) > 0:\n",
    "        chosen_one = np.argmin(abs(options.pref_tf-pref_tf))\n",
    "        return options.cell_specimen_id[chosen_one], 1\n",
    "    \n",
    "    # case 2: pref_dir +/- 45\n",
    "    options = dsn_csv[(abs(dsn_csv.pref_dir-pref_dir)<=45) & (dsn_csv.is_drn==0)].reset_index(drop=True)\n",
    "    if len(options) > 0:\n",
    "        chosen_one = np.random.choice(range(len(options)), 1)# np.argmin(abs(options.pref_dir-pref_dir))\n",
    "        return options.cell_specimen_id.values[chosen_one], 2\n",
    "    \n",
    "    # case 3: random dsn\n",
    "    options = dsn_csv[(dsn_csv.is_drn==0)].reset_index(drop=True)\n",
    "    if len(options) > 0:\n",
    "        chosen_one = np.random.choice(range(len(options)), 1)# np.argmin(abs(options.pref_dir-pref_dir))\n",
    "        return options.cell_specimen_id[chosen_one], 3\n",
    "    else:\n",
    "        print \"We're fresh out of DSNs, come back tomorrow!\"\n",
    "        return\n",
    "    \n",
    "    \n",
    "    "
   ]
  },
  {
   "cell_type": "code",
   "execution_count": 22,
   "metadata": {
    "collapsed": true
   },
   "outputs": [],
   "source": [
    "# find soulmates for all drns in a session\n",
    "# returns list of drns and list of dsns in corresponding order\n",
    "def session_soulmates(session_id):\n",
    "    data_set = boc.get_ophys_experiment_data(int(session_id))\n",
    "    cells = data_set.get_cell_specimen_ids()\n",
    "    \n",
    "    # pull out drns and dsns\n",
    "    is_drn = np.zeros(len(cells))\n",
    "    is_dsn = np.zeros(len(cells))\n",
    "    for i in range(len(cells)):\n",
    "        idx = np.where(cell_id_key==cells[i])[0][0]\n",
    "        if is_drn_key[idx]==True:\n",
    "            is_drn[i] = 1\n",
    "        if is_dsn_key[idx]==True:\n",
    "            is_dsn[i] = 1\n",
    "    is_drn = is_drn.astype(int)\n",
    "    is_dsn = is_dsn.astype(int)\n",
    "    \n",
    "    cell_idx = np.arange(len(cells))\n",
    "    drn_ids = cells[is_drn==1]\n",
    "    N_drns = len(drn_ids)\n",
    "    dsn_ids = cells[is_dsn==1]\n",
    "    \n",
    "    dsn_csv = csv[csv[\"cell_specimen_id\"].isin(dsn_ids)].reset_index(drop=True)\n",
    "    soulmates = []\n",
    "    cases = []\n",
    "    for drn in drn_ids:\n",
    "        soulmate, case = find_soulmate(drn_id=drn, dsn_csv=dsn_csv)\n",
    "        soulmates.append(np.squeeze(soulmate))\n",
    "        cases.append(case)\n",
    "    \n",
    "    return drn_ids,soulmates,cases\n",
    "    \n",
    "    "
   ]
  },
  {
   "cell_type": "code",
   "execution_count": 23,
   "metadata": {
    "collapsed": true,
    "scrolled": false
   },
   "outputs": [],
   "source": [
    "# collect soulmates for each session\n",
    "drns_all = []\n",
    "soulmates_all = []\n",
    "cases_all = []\n",
    "for session_id in [sessions[28]]:\n",
    "    drns, soulmates, cases = session_soulmates(session_id)\n",
    "    drns_all.append(drns)\n",
    "    soulmates_all.append(np.squeeze(soulmates))\n",
    "    cases_all.append(cases)"
   ]
  },
  {
   "cell_type": "code",
   "execution_count": 24,
   "metadata": {},
   "outputs": [
    {
     "data": {
      "text/plain": [
       "[array([575785505, 575785498, 575785772, 575785307, 575785006, 575785401,\n",
       "        575785769])]"
      ]
     },
     "execution_count": 24,
     "metadata": {},
     "output_type": "execute_result"
    }
   ],
   "source": [
    "drns_all"
   ]
  },
  {
   "cell_type": "code",
   "execution_count": 25,
   "metadata": {},
   "outputs": [
    {
     "data": {
      "text/plain": [
       "[array([575784624, 575785301, 575784624, 575785160, 575785652, 575784788,\n",
       "        575785163])]"
      ]
     },
     "execution_count": 25,
     "metadata": {},
     "output_type": "execute_result"
    }
   ],
   "source": [
    "soulmates_all"
   ]
  },
  {
   "cell_type": "code",
   "execution_count": 10,
   "metadata": {},
   "outputs": [
    {
     "data": {
      "text/plain": [
       "[[2, 0, 0, 2, 0, 1, 0]]"
      ]
     },
     "execution_count": 10,
     "metadata": {},
     "output_type": "execute_result"
    }
   ],
   "source": [
    "cases_all"
   ]
  },
  {
   "cell_type": "code",
   "execution_count": 184,
   "metadata": {},
   "outputs": [
    {
     "data": {
      "image/png": "[encoded data removed]",
      "text/plain": [
       "<matplotlib.figure.Figure at 0x1c2043d990>"
      ]
     },
     "metadata": {},
     "output_type": "display_data"
    }
   ],
   "source": [
    "plt.hist(np.concatenate(cases_all))\n",
    "plt.show()"
   ]
  },
  {
   "cell_type": "code",
   "execution_count": 185,
   "metadata": {
    "collapsed": true
   },
   "outputs": [],
   "source": [
    "np.save(path + \"results/matchmaker/sessions.npy\", sessions)\n",
    "np.save(path + \"results/matchmaker/drns.npy\", drns_all)\n",
    "np.save(path + \"results/matchmaker/soulmates.npy\", soulmates_all)\n",
    "np.save(path + \"results/matchmaker/cases.npy\", cases_all)\n"
   ]
  },
  {
   "cell_type": "code",
   "execution_count": null,
   "metadata": {
    "collapsed": true
   },
   "outputs": [],
   "source": []
  },
  {
   "cell_type": "code",
   "execution_count": null,
   "metadata": {
    "collapsed": true
   },
   "outputs": [],
   "source": []
  },
  {
   "cell_type": "code",
   "execution_count": null,
   "metadata": {
    "collapsed": true
   },
   "outputs": [],
   "source": []
  }
 ],
 "metadata": {
  "kernelspec": {
   "display_name": "Python 2",
   "language": "python",
   "name": "python2"
  },
  "language_info": {
   "codemirror_mode": {
    "name": "ipython",
    "version": 2
   },
   "file_extension": ".py",
   "mimetype": "text/x-python",
   "name": "python",
   "nbconvert_exporter": "python",
   "pygments_lexer": "ipython2",
   "version": "2.7.3"
  }
 },
 "nbformat": 4,
 "nbformat_minor": 2
}
